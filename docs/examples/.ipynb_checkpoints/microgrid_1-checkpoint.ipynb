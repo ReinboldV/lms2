{
 "cells": [
  {
   "cell_type": "markdown",
   "metadata": {
    "collapsed": true
   },
   "source": [
    "# Exemple de gestion d'énergie et de dimensionnement d'un micro-réseau\n",
    "\n",
    "L'exemple est basé sur la gestion d'énergie et le dimensionneùent d'un micro-réseau contenant, des sources d'énergie renouvelables, des charges, et un système de stockage électrochimique. Le profile d'irradiation et la consomation de la charge sont supposées connues sur l'horizon considéré et les degrés de libertés sont :\n",
    "    \n",
    "- le dimensionnement du stockage (i.e. c_bat),\n",
    "- le dimensionnement des panneaux photovoltaïques (i.e. la surface), \n",
    "- les flux de puissances provenant du réseau et du stockage. \n",
    "\n",
    "\n",
    "<img src=\"data/figures/microgrids_bat.png\" style=\"height:250px\">\n"
   ]
  },
  {
   "cell_type": "markdown",
   "metadata": {},
   "source": [
    "La première étape consiste à charger les bibliothèques utiles:\n",
    "\n",
    "- Pyomo : le package de modélisation des problèmes d'optimisation (voir https://pyomo.readthedocs.io/en/latest/)\n",
    "- lms2 : la librairie maison de modèles pour la gestion d'énerge et l'optimisation en génie électrique (documentation dans `lms2/docs/_build/html/index.html`). Dans ce package on ira chercher les modèles que l'on souhaite utiliser, dans le cas qui nous intéresse battery_v2 (avec efficacité en charge et décharge), pv_panel, etc."
   ]
  },
  {
   "cell_type": "code",
   "execution_count": 1,
   "metadata": {},
   "outputs": [],
   "source": [
    "from pyomo.dae import ContinuousSet, Integral\n",
    "from pyomo.environ import *\n",
    "from lms2.core.horizon import SimpleHorizon\n",
    "from lms2.electric.batteries import battery_v2\n",
    "from lms2.electric.sources import pv_panel, fixed_power_load, power_source"
   ]
  },
  {
   "cell_type": "markdown",
   "metadata": {},
   "source": [
    "Cet exemple d'optimisation illustre les étapes suivantes :\n",
    "\n",
    "1. Instanciation du problème d'optimisation et de l'horizon temporel\n",
    "2. Discrétisation temporelle\n",
    "3. Chargement des données\n",
    "4. Résolution"
   ]
  },
  {
   "cell_type": "markdown",
   "metadata": {},
   "source": [
    "## Instanciation du problème d'optimisation et de l'horizon temporel\n",
    "\n",
    "L'instanciation du problème comporte plusieurs étapes :\n",
    "\n",
    "1. Instanciation d'un problème nommé `m`.\n",
    "2. Instanciation de l'horizon temporel, celui-ci fait le lien entre les indexes des vecteurs (en s) et les dates (sous forme `str`). Cet objet n'est pas toujours obligatoire, mais il est particulièrement utile pour le chargement de certaines données, la discrétisation temporelle et le post-processing (affichage, etc.).\n",
    "3. Instanciation des variables, des paramètres et des équations du modèle :\n",
    "\n",
    "    - par chargement de sous-modèles (blocks) déjà existants dans la librairie,\n",
    "    - par modélisation avec le langage pyomo."
   ]
  },
  {
   "cell_type": "code",
   "execution_count": 2,
   "metadata": {},
   "outputs": [
    {
     "name": "stdout",
     "output_type": "stream",
     "text": [
      "les 5 premiers instants considérés :\n",
      " DatetimeIndex(['2020-01-01 00:00:00+01:00', '2020-01-01 00:10:00+01:00',\n",
      "               '2020-01-01 00:20:00+01:00', '2020-01-01 00:30:00+01:00',\n",
      "               '2020-01-01 00:40:00+01:00'],\n",
      "              dtype='datetime64[ns, Europe/Paris]', freq='10T')\n",
      "les 5 premiers indexes (équivalents au temps en s) : \n",
      " [   0.  600. 1200. 1800. 2400.]\n"
     ]
    }
   ],
   "source": [
    "m = ConcreteModel()\n",
    "horizon = SimpleHorizon(tstart='2020-01-01 00:00:00', tend='2020-01-02 00:00:00', time_step='10 min')\n",
    "m.time = ContinuousSet(initialize=[0, horizon.horizon.total_seconds()])\n",
    "\n",
    "print(\"les 5 premiers instants considérés :\\n\", horizon.current[0:5]) #\n",
    "print(\"les 5 premiers indexes (équivalents au temps en s) : \\n\", horizon.index[0:5]) "
   ]
  },
  {
   "cell_type": "markdown",
   "metadata": {},
   "source": [
    "Les blocks sont des sous-problèmes qui permettent de définir, pour chaque composant, des variables, des paramètres, des contraintes et des expressions.\n",
    "\n",
    "Il est possible de rentrer des options en argument. Les grandeurs dynamiques seront chargés plus tard, l'utilisation de dictionnaire n'est pas pratique dans ce cas, et le temps n'a pas encore été discrétisé..."
   ]
  },
  {
   "cell_type": "code",
   "execution_count": 3,
   "metadata": {},
   "outputs": [],
   "source": [
    "option_bat = {'time': m.time, 'c_bat': 2000, 'eta_c': 0.95, 'eta_d': 0.95, 'soc_min': 40, 'soc_max': 95}\n",
    "option_charge = {'time': m.time}\n",
    "option_pv = {'time': m.time, 's_max': 10, 's_min': 1}\n",
    "option_res = {'time': m.time}"
   ]
  },
  {
   "cell_type": "markdown",
   "metadata": {},
   "source": [
    "Les options des blocks sont (généralement) définis dans la documentation de chaque block,"
   ]
  },
  {
   "cell_type": "code",
   "execution_count": 4,
   "metadata": {},
   "outputs": [
    {
     "name": "stdout",
     "output_type": "stream",
     "text": [
      "Help on function battery_v2 in module lms2.electric.batteries:\n",
      "\n",
      "battery_v2(bat, **options)\n",
      "    Bilinear battery Model.\n",
      "    \n",
      "    This battery is limited in power, variation of power, state of charge and energy. One can fix initial and final\n",
      "    state of charge.\n",
      "    Efficiency for charge and discharge are considered.\n",
      "    It exposes one power port using source convention.\n",
      "    \n",
      "    Instanciation options:\n",
      "        - c_bat :       battery capacity (kWh)\n",
      "        - c_bat_max :   battery maximal capacity, default : +inf (only if c_bat is None)\n",
      "        - c_bat_min :   battery minimal capacity, default : 0 (only if c_bat is None)\n",
      "        - p_max :       maximal charging power, default : +inf (>0)\n",
      "        - p_min :       maximal descharging power, default : +inf (>0)\n",
      "        - soc_min :     minimal soc, default : 0 (>0)\n",
      "        - soc_max :     maximal soc, default : 100 (>0)\n",
      "        - soc0 :        initial SOC, default: 50 (0<soc0<100)\n",
      "        - socf :        final SOC, defalut: 50 (0<socf<100)\n",
      "        - eta_c :       charging efficiency, default : 1 (<1 and >0)\n",
      "        - eta_d :       descharging efficiency, default : 1 (<1 and >0)\n",
      "    \n",
      "    =============== ===================================================================\n",
      "    Variables       Documentation\n",
      "    =============== ===================================================================\n",
      "    p               energy derivative with respect to time\n",
      "    e               energy in battery\n",
      "    pd              discharging power\n",
      "    pc              charging power\n",
      "    u               binary variable\n",
      "    =============== ===================================================================\n",
      "    \n",
      "    =============== ===================================================================\n",
      "    Derivative Var  Documentation\n",
      "    =============== ===================================================================\n",
      "    de              variation of energy  with respect to time\n",
      "    dp              variation of the battery power with respect to time\n",
      "    =============== ===================================================================\n",
      "    \n",
      "    =============== ===================================================================\n",
      "    Parameters      Documentation\n",
      "    =============== ===================================================================\n",
      "    emin            minimum energy (kWh)\n",
      "    emax            maximal energy\n",
      "    socmin          minimum soc\n",
      "    socmax          maximal soc\n",
      "    soc0            initial state\n",
      "    socf            final state\n",
      "    dpdmax          maximal discharging power\n",
      "    dpcmax          maximal charging power\n",
      "    pcmax           maximal charging power\n",
      "    pdmax           maximal discharging power\n",
      "    etac            charging efficiency\n",
      "    etad            discharging efficiency\n",
      "    =============== ===================================================================\n",
      "    \n",
      "    =============== ===================================================================\n",
      "    Constraints     Documentation\n",
      "    =============== ===================================================================\n",
      "    _soc_init       Initial state of charge\n",
      "    _p_init         Initialize power\n",
      "    _e_min          Minimal energy constraint\n",
      "    _e_max          Maximal energy constraint\n",
      "    _soc_final      Final soc constraint\n",
      "    _soc_min        Minimal state of charge constraint\n",
      "    _soc_max        Maximal state of charge constraint\n",
      "    _dpdmax         Maximal varation of descharging power constraint\n",
      "    _dpcmax         Maximal varation of charging power constraint\n",
      "    _pdmax          Discharging power bound\n",
      "    _pcmax          Charging power bound\n",
      "    _p_balance      Power balance constraint\n",
      "    _e_balance      Energy balance constraint\n",
      "    =============== ===================================================================\n",
      "    \n",
      "    =============== ===================================================================\n",
      "    Ports           Documentation\n",
      "    =============== ===================================================================\n",
      "    outlet          output power of the battery (kW), using source convention\n",
      "    =============== ===================================================================\n",
      "    \n",
      "    =============== ===================================================================\n",
      "    Expressions     Documentation\n",
      "    =============== ===================================================================\n",
      "    soc             Expression of the state of charge\n",
      "    =============== ===================================================================\n",
      "\n"
     ]
    }
   ],
   "source": [
    "help(battery_v2)"
   ]
  },
  {
   "cell_type": "code",
   "execution_count": 5,
   "metadata": {},
   "outputs": [],
   "source": [
    "m.bat = Block(rule=lambda x: battery_v2(x, **option_bat))\n",
    "m.charge = Block(rule=lambda x: fixed_power_load(x, **option_charge))\n",
    "m.pv = Block(rule=lambda x: pv_panel(x, **option_pv))\n",
    "m.res = Block(rule=lambda x: power_source(x, **option_res))"
   ]
  },
  {
   "cell_type": "markdown",
   "metadata": {},
   "source": [
    "A ce stade, les blocks sont instancié dans le problème `m`. Il est possible de vérifier la structure du modèle avec la commande `pprint()`. Notez que certaines grandeurs ne sont pas initialisées à la valeur que l'on souhaiterait, pour le moment."
   ]
  },
  {
   "cell_type": "code",
   "execution_count": 6,
   "metadata": {},
   "outputs": [
    {
     "name": "stdout",
     "output_type": "stream",
     "text": [
      "bat : Size=1, Index=None, Active=True\n",
      "    13 Param Declarations\n",
      "        dpcmax : maximal charging power\n",
      "            Size=1, Index=None, Domain=Reals, Default=10000000.0, Mutable=True\n",
      "            Key  : Value\n",
      "            None : 10000000.0\n",
      "        dpdmax : maximal discharging power\n",
      "            Size=1, Index=None, Domain=Reals, Default=10000000.0, Mutable=True\n",
      "            Key  : Value\n",
      "            None : 10000000.0\n",
      "        emax : maximal energy\n",
      "            Size=1, Index=None, Domain=Reals, Default=2000, Mutable=True\n",
      "            Key  : Value\n",
      "            None :  2000\n",
      "        emin : minimum energy (kWh)\n",
      "            Size=1, Index=None, Domain=NonNegativeReals, Default=0, Mutable=True\n",
      "            Key  : Value\n",
      "            None :     0\n",
      "        etac : charging efficiency\n",
      "            Size=1, Index=None, Domain=Reals, Default=0.95, Mutable=True\n",
      "            Key : Value\n",
      "        etad : discharging efficiency\n",
      "            Size=1, Index=None, Domain=Reals, Default=0.95, Mutable=True\n",
      "            Key : Value\n",
      "        pcmax : maximal charging power\n",
      "            Size=1, Index=None, Domain=NonNegativeReals, Default=10000000.0, Mutable=True\n",
      "            Key  : Value\n",
      "            None : 10000000.0\n",
      "        pdmax : maximal discharging power\n",
      "            Size=1, Index=None, Domain=NonNegativeReals, Default=10000000.0, Mutable=True\n",
      "            Key  : Value\n",
      "            None : 10000000.0\n",
      "        pinit : initial output power of the battery (default : None)\n",
      "            Size=1, Index=None, Domain=Any, Default=None, Mutable=True\n",
      "            Key  : Value\n",
      "            None :  None\n",
      "        soc0 : initial state\n",
      "            Size=1, Index=None, Domain=Any, Default=50, Mutable=True\n",
      "            Key  : Value\n",
      "            None :    50\n",
      "        socf : final state\n",
      "            Size=1, Index=None, Domain=Any, Default=50, Mutable=True\n",
      "            Key  : Value\n",
      "            None :    50\n",
      "        socmax : maximal soc\n",
      "            Size=1, Index=None, Domain=Any, Default=95, Mutable=True\n",
      "            Key  : Value\n",
      "            None :    95\n",
      "        socmin : minimum soc\n",
      "            Size=1, Index=None, Domain=Reals, Default=40, Mutable=True\n",
      "            Key  : Value\n",
      "            None :    40\n",
      "\n",
      "    5 Var Declarations\n",
      "        e : energy in battery\n",
      "            Size=2, Index=time\n",
      "            Key     : Lower : Value  : Upper : Fixed : Stale : Domain\n",
      "                  0 :     0 : 1000.0 :  2000 : False : False :  Reals\n",
      "            86400.0 :     0 : 1000.0 :  2000 : False : False :  Reals\n",
      "        p : energy derivative with respect to time\n",
      "            Size=2, Index=time\n",
      "            Key     : Lower : Value : Upper : Fixed : Stale : Domain\n",
      "                  0 :  None :     0 :  None : False : False :  Reals\n",
      "            86400.0 :  None :     0 :  None : False : False :  Reals\n",
      "        pc : charging power\n",
      "            Size=2, Index=time\n",
      "            Key     : Lower : Value : Upper : Fixed : Stale : Domain\n",
      "                  0 :     0 :     0 :  None : False : False : NonNegativeReals\n",
      "            86400.0 :     0 :     0 :  None : False : False : NonNegativeReals\n",
      "        pd : discharging power\n",
      "            Size=2, Index=time\n",
      "            Key     : Lower : Value : Upper : Fixed : Stale : Domain\n",
      "                  0 :     0 :     0 :  None : False : False : NonNegativeReals\n",
      "            86400.0 :     0 :     0 :  None : False : False : NonNegativeReals\n",
      "        u : binary variable\n",
      "            Size=2, Index=time\n",
      "            Key     : Lower : Value : Upper : Fixed : Stale : Domain\n",
      "                  0 :     0 :     0 :     1 : False : False : Binary\n",
      "            86400.0 :     0 :     0 :     1 : False : False : Binary\n",
      "\n",
      "    1 Expression Declarations\n",
      "        soc : Expression of the state of charge\n",
      "            Size=2, Index=time\n",
      "            Key     : Expression\n",
      "                  0 :       100*bat.e[0]/bat.emax\n",
      "            86400.0 : 100*bat.e[86400.0]/bat.emax\n",
      "\n",
      "    13 Constraint Declarations\n",
      "        _dpcmax : Maximal variation of charging power constraint\n",
      "            Size=2, Index=time, Active=True\n",
      "            Key     : Lower        : Body            : Upper : Active\n",
      "                  0 : - bat.dpcmax :       bat.dp[0] :  +Inf :   True\n",
      "            86400.0 : - bat.dpcmax : bat.dp[86400.0] :  +Inf :   True\n",
      "        _dpdmax : Maximal variation of descharging power constraint\n",
      "            Size=2, Index=time, Active=True\n",
      "            Key     : Lower : Body            : Upper      : Active\n",
      "                  0 :  -Inf :       bat.dp[0] : bat.dpdmax :   True\n",
      "            86400.0 :  -Inf : bat.dp[86400.0] : bat.dpdmax :   True\n",
      "        _e_balance : Energy balance constraint\n",
      "            Size=2, Index=time, Active=True\n",
      "            Key     : Lower : Body                                                                                            : Upper : Active\n",
      "                  0 :   0.0 :                   bat.de[0] - 0.0002777777777777778*(bat.etac*bat.pc[0] - 1/bat.etad*bat.pd[0]) :   0.0 :   True\n",
      "            86400.0 :   0.0 : bat.de[86400.0] - 0.0002777777777777778*(bat.etac*bat.pc[86400.0] - 1/bat.etad*bat.pd[86400.0]) :   0.0 :   True\n",
      "        _e_max : Maximal energy constraint\n",
      "            Size=2, Index=time, Active=True\n",
      "            Key     : Lower : Body           : Upper    : Active\n",
      "                  0 :  -Inf :       bat.e[0] : bat.emax :   True\n",
      "            86400.0 :  -Inf : bat.e[86400.0] : bat.emax :   True\n",
      "        _e_min : Minimal energy constraint\n",
      "            Size=2, Index=time, Active=True\n",
      "            Key     : Lower    : Body           : Upper : Active\n",
      "                  0 : bat.emin :       bat.e[0] :  +Inf :   True\n",
      "            86400.0 : bat.emin : bat.e[86400.0] :  +Inf :   True\n",
      "        _p_balance : Power balance constraint\n",
      "            Size=2, Index=time, Active=True\n",
      "            Key     : Lower : Body                                               : Upper : Active\n",
      "                  0 :   0.0 :                   bat.p[0] - bat.pd[0] + bat.pc[0] :   0.0 :   True\n",
      "            86400.0 :   0.0 : bat.p[86400.0] - bat.pd[86400.0] + bat.pc[86400.0] :   0.0 :   True\n",
      "        _p_init : Initialize power\n",
      "            Size=0, Index=time, Active=True\n",
      "            Key : Lower : Body : Upper : Active\n",
      "        _pcmax : Charging power bound\n",
      "            Size=2, Index=time, Active=True\n",
      "            Key     : Lower : Body                                       : Upper     : Active\n",
      "                  0 :  -Inf :             bat.pc[0] + bat.pcmax*bat.u[0] : bat.pcmax :   True\n",
      "            86400.0 :  -Inf : bat.pc[86400.0] + bat.pcmax*bat.u[86400.0] : bat.pcmax :   True\n",
      "        _pdmax : Discharging power bound\n",
      "            Size=2, Index=time, Active=True\n",
      "            Key     : Lower : Body                                       : Upper : Active\n",
      "                  0 :  -Inf :             bat.pd[0] - bat.pdmax*bat.u[0] :   0.0 :   True\n",
      "            86400.0 :  -Inf : bat.pd[86400.0] - bat.pdmax*bat.u[86400.0] :   0.0 :   True\n",
      "        _soc_final : Final soc constraint\n",
      "            Size=1, Index=time, Active=True\n",
      "            Key     : Lower                 : Body           : Upper                 : Active\n",
      "            86400.0 : bat.socf*bat.emax/100 : bat.e[86400.0] : bat.socf*bat.emax/100 :   True\n",
      "        _soc_init : initial state of charge\n",
      "            Size=1, Index=time, Active=True\n",
      "            Key : Lower                 : Body     : Upper                 : Active\n",
      "              0 : bat.soc0*bat.emax/100 : bat.e[0] : bat.soc0*bat.emax/100 :   True\n",
      "        _soc_max : Maximal state of charge constraint\n",
      "            Size=2, Index=time, Active=True\n",
      "            Key     : Lower : Body           : Upper                   : Active\n",
      "                  0 :  -Inf :       bat.e[0] : bat.emax*bat.socmax/100 :   True\n",
      "            86400.0 :  -Inf : bat.e[86400.0] : bat.emax*bat.socmax/100 :   True\n",
      "        _soc_min : Minimal state of charge constraint\n",
      "            Size=2, Index=time, Active=True\n",
      "            Key     : Lower                   : Body           : Upper : Active\n",
      "                  0 : bat.socmin*bat.emax/100 :       bat.e[0] :  +Inf :   True\n",
      "            86400.0 : bat.socmin*bat.emax/100 : bat.e[86400.0] :  +Inf :   True\n",
      "\n",
      "    2 DerivativeVar Declarations\n",
      "        de : variation of energy  with respect to time\n",
      "            Size=2, Index=time\n",
      "            Key     : Lower : Value : Upper : Fixed : Stale : Domain\n",
      "                  0 :  None :     0 :  None : False : False :  Reals\n",
      "            86400.0 :  None :     0 :  None : False : False :  Reals\n",
      "        dp : variation of the battery power with respect to time\n",
      "            Size=2, Index=time\n",
      "            Key     : Lower       : Value : Upper      : Fixed : Stale : Domain\n",
      "                  0 : -10000000.0 :     0 : 10000000.0 : False : False :  Reals\n",
      "            86400.0 : -10000000.0 :     0 : 10000000.0 : False : False :  Reals\n",
      "\n",
      "    1 Port Declarations\n",
      "        outlet : output power of the battery (kW), using source convention\n",
      "            Size=1, Index=None\n",
      "            Key  : Name : Size : Variable\n",
      "            None :    f :    2 :    bat.p\n",
      "\n",
      "    35 Declarations: emax emin socmin pinit socmax soc0 socf dpdmax dpcmax pcmax pdmax p e de dp outlet _soc_init _p_init _e_min _e_max _soc_final _soc_min _soc_max _dpdmax _dpcmax soc pd pc u etac etad _e_balance _pdmax _pcmax _p_balance\n"
     ]
    }
   ],
   "source": [
    "m.bat.pprint()"
   ]
  },
  {
   "cell_type": "markdown",
   "metadata": {},
   "source": [
    "#### Exemple de contrainte sur le bilan de puissance\n",
    "\n",
    "La connexion électrique des blocks entre eux peut être vue comme une contrainte d'égalité, appelée bilan de puissance. Elle doit être définie en dehors des blocks, (i.e. au niveau du model m).\n",
    "Pour se faire il y a deux possibilités :\n",
    "- définir une contrainte classique avec le langague de pyomo,\n",
    "- utiliser la notion de ports (extensifs ou intensifs) (usage un peu plus avancé).\n",
    "  "
   ]
  },
  {
   "cell_type": "code",
   "execution_count": 7,
   "metadata": {},
   "outputs": [],
   "source": [
    "@m.Constraint(m.time)\n",
    "def bilan_puissance(b, t):\n",
    "    return b.bat.p[t] + b.res.p[t] + b.pv.p[t] == b.charge.p[t]"
   ]
  },
  {
   "cell_type": "markdown",
   "metadata": {},
   "source": [
    "#### Exemple d'une expression\n",
    "Il est possible de définir des expressions, qui interviendront potentiellement\n",
    "dans les calculs des coûts, des contraintes ou pour le post-processing. Pour l'exemple, définissons les couts instantanés économiques `cout_inst_edf` et écologiques `cout_inst_env`."
   ]
  },
  {
   "cell_type": "code",
   "execution_count": 8,
   "metadata": {},
   "outputs": [],
   "source": [
    "@m.Expression(m.time)\n",
    "def cout_inst_env(b, t):\n",
    "    return 60*b.bat.p[t] + 60*b.pv.p[t] + 700*b.res.p[t]\n",
    "\n",
    "\n",
    "@m.Expression(m.time)\n",
    "def cout_inst_edf(b, t):\n",
    "    return 0.15*b.res.p[t]"
   ]
  },
  {
   "cell_type": "markdown",
   "metadata": {},
   "source": [
    "#### Exemple d'intégration temporelle\n",
    "Lorsqu'une expression doit être intégrée sur le temps continu, on utilise l'objet `Integral`. L'intégration des couts sur le temps devient : "
   ]
  },
  {
   "cell_type": "code",
   "execution_count": 9,
   "metadata": {},
   "outputs": [],
   "source": [
    "m.int_edf = Integral(m.time, wrt=m.time, rule=cout_inst_edf)\n",
    "m.int_env = Integral(m.time, wrt=m.time, rule=cout_inst_env)"
   ]
  },
  {
   "cell_type": "markdown",
   "metadata": {},
   "source": [
    "#### Exemple de définition de l'objectif\n",
    "L'objectif d'optimisation doit être défini au niveau du model `m` et peut faire intervenir\n",
    "les variables des sous-blocks. Dans le language Pyomo, on utilise l'objet `Objective`."
   ]
  },
  {
   "cell_type": "code",
   "execution_count": 10,
   "metadata": {},
   "outputs": [],
   "source": [
    "@m.Objective()\n",
    "def cout_edf(b):\n",
    "    return b.int_edf + 100*b.bat.emax/(m.time.last() - m.time.first())/(20*365*24*60) + 100*b.pv.s_pv/(m.time.last() - m.time.first())/(20*365*24*60)"
   ]
  },
  {
   "cell_type": "markdown",
   "metadata": {},
   "source": [
    "## Discrétisation temporelle\n",
    "\n",
    "La discrétisation temporelle est souvent source d'erreur, suivant le schéma d'intégration et sur des modèles de grande taille, cette étape devient difficilement réalisable à la main. Pour cela, l'extention Pyomo.dae offre la possibilité de discrétiser automatiquement les modèles dans lesquels apparait un index continu (généralement le temps). Ce qui rend les choses plus simples. Dans cet exemple on choisira un schéma d'intégration de différence finie (i.e. celui d'Euler).\n",
    "\n",
    "Avant discrétisation, les grandeurs indexées par le temps ne font intervenir que le début et la fin de l'horizon."
   ]
  },
  {
   "cell_type": "code",
   "execution_count": 11,
   "metadata": {},
   "outputs": [
    {
     "name": "stdout",
     "output_type": "stream",
     "text": [
      "int_edf : Size=1, Index=None\n",
      "    Key  : Expression\n",
      "    None : 43200.0*(0.15*res.p[86400.0] + 0.15*res.p[0])\n"
     ]
    }
   ],
   "source": [
    "# l'intégrale avant discrétisation :\n",
    "m.int_edf.pprint()"
   ]
  },
  {
   "cell_type": "markdown",
   "metadata": {},
   "source": [
    "Noter que la discrétisation se fait sur le modèle complet, en renseignant le nombre d'éléments finis. Dans notre cas, cette information est stockée dans l'objet `horizon`."
   ]
  },
  {
   "cell_type": "code",
   "execution_count": 12,
   "metadata": {},
   "outputs": [],
   "source": [
    "from pyomo.environ import TransformationFactory\n",
    "TransformationFactory('dae.finite_difference').apply_to(m, nfe=horizon.nfe)"
   ]
  },
  {
   "cell_type": "code",
   "execution_count": 13,
   "metadata": {
    "scrolled": true
   },
   "outputs": [
    {
     "name": "stdout",
     "output_type": "stream",
     "text": [
      "int_edf : Size=1, Index=None\n",
      "    Key  : Expression\n",
      "    None : 300.0*(0.15*res.p[600.0] + 0.15*res.p[0]) + 300.0*(0.15*res.p[1200.0] + 0.15*res.p[600.0]) + 300.0*(0.15*res.p[1800.0] + 0.15*res.p[1200.0]) + 300.0*(0.15*res.p[2400.0] + 0.15*res.p[1800.0]) + 300.0*(0.15*res.p[3000.0] + 0.15*res.p[2400.0]) + 300.0*(0.15*res.p[3600.0] + 0.15*res.p[3000.0]) + 300.0*(0.15*res.p[4200.0] + 0.15*res.p[3600.0]) + 300.0*(0.15*res.p[4800.0] + 0.15*res.p[4200.0]) + 300.0*(0.15*res.p[5400.0] + 0.15*res.p[4800.0]) + 300.0*(0.15*res.p[6000.0] + 0.15*res.p[5400.0]) + 300.0*(0.15*res.p[6600.0] + 0.15*res.p[6000.0]) + 300.0*(0.15*res.p[7200.0] + 0.15*res.p[6600.0]) + 300.0*(0.15*res.p[7800.0] + 0.15*res.p[7200.0]) + 300.0*(0.15*res.p[8400.0] + 0.15*res.p[7800.0]) + 300.0*(0.15*res.p[9000.0] + 0.15*res.p[8400.0]) + 300.0*(0.15*res.p[9600.0] + 0.15*res.p[9000.0]) + 300.0*(0.15*res.p[10200.0] + 0.15*res.p[9600.0]) + 300.0*(0.15*res.p[10800.0] + 0.15*res.p[10200.0]) + 300.0*(0.15*res.p[11400.0] + 0.15*res.p[10800.0]) + 300.0*(0.15*res.p[12000.0] + 0.15*res.p[11400.0]) + 300.0*(0.15*res.p[12600.0] + 0.15*res.p[12000.0]) + 300.0*(0.15*res.p[13200.0] + 0.15*res.p[12600.0]) + 300.0*(0.15*res.p[13800.0] + 0.15*res.p[13200.0]) + 300.0*(0.15*res.p[14400.0] + 0.15*res.p[13800.0]) + 300.0*(0.15*res.p[15000.0] + 0.15*res.p[14400.0]) + 300.0*(0.15*res.p[15600.0] + 0.15*res.p[15000.0]) + 300.0*(0.15*res.p[16200.0] + 0.15*res.p[15600.0]) + 300.0*(0.15*res.p[16800.0] + 0.15*res.p[16200.0]) + 300.0*(0.15*res.p[17400.0] + 0.15*res.p[16800.0]) + 300.0*(0.15*res.p[18000.0] + 0.15*res.p[17400.0]) + 300.0*(0.15*res.p[18600.0] + 0.15*res.p[18000.0]) + 300.0*(0.15*res.p[19200.0] + 0.15*res.p[18600.0]) + 300.0*(0.15*res.p[19800.0] + 0.15*res.p[19200.0]) + 300.0*(0.15*res.p[20400.0] + 0.15*res.p[19800.0]) + 300.0*(0.15*res.p[21000.0] + 0.15*res.p[20400.0]) + 300.0*(0.15*res.p[21600.0] + 0.15*res.p[21000.0]) + 300.0*(0.15*res.p[22200.0] + 0.15*res.p[21600.0]) + 300.0*(0.15*res.p[22800.0] + 0.15*res.p[22200.0]) + 300.0*(0.15*res.p[23400.0] + 0.15*res.p[22800.0]) + 300.0*(0.15*res.p[24000.0] + 0.15*res.p[23400.0]) + 300.0*(0.15*res.p[24600.0] + 0.15*res.p[24000.0]) + 300.0*(0.15*res.p[25200.0] + 0.15*res.p[24600.0]) + 300.0*(0.15*res.p[25800.0] + 0.15*res.p[25200.0]) + 300.0*(0.15*res.p[26400.0] + 0.15*res.p[25800.0]) + 300.0*(0.15*res.p[27000.0] + 0.15*res.p[26400.0]) + 300.0*(0.15*res.p[27600.0] + 0.15*res.p[27000.0]) + 300.0*(0.15*res.p[28200.0] + 0.15*res.p[27600.0]) + 300.0*(0.15*res.p[28800.0] + 0.15*res.p[28200.0]) + 300.0*(0.15*res.p[29400.0] + 0.15*res.p[28800.0]) + 300.0*(0.15*res.p[30000.0] + 0.15*res.p[29400.0]) + 300.0*(0.15*res.p[30600.0] + 0.15*res.p[30000.0]) + 300.0*(0.15*res.p[31200.0] + 0.15*res.p[30600.0]) + 300.0*(0.15*res.p[31800.0] + 0.15*res.p[31200.0]) + 300.0*(0.15*res.p[32400.0] + 0.15*res.p[31800.0]) + 300.0*(0.15*res.p[33000.0] + 0.15*res.p[32400.0]) + 300.0*(0.15*res.p[33600.0] + 0.15*res.p[33000.0]) + 300.0*(0.15*res.p[34200.0] + 0.15*res.p[33600.0]) + 300.0*(0.15*res.p[34800.0] + 0.15*res.p[34200.0]) + 300.0*(0.15*res.p[35400.0] + 0.15*res.p[34800.0]) + 300.0*(0.15*res.p[36000.0] + 0.15*res.p[35400.0]) + 300.0*(0.15*res.p[36600.0] + 0.15*res.p[36000.0]) + 300.0*(0.15*res.p[37200.0] + 0.15*res.p[36600.0]) + 300.0*(0.15*res.p[37800.0] + 0.15*res.p[37200.0]) + 300.0*(0.15*res.p[38400.0] + 0.15*res.p[37800.0]) + 300.0*(0.15*res.p[39000.0] + 0.15*res.p[38400.0]) + 300.0*(0.15*res.p[39600.0] + 0.15*res.p[39000.0]) + 300.0*(0.15*res.p[40200.0] + 0.15*res.p[39600.0]) + 300.0*(0.15*res.p[40800.0] + 0.15*res.p[40200.0]) + 300.0*(0.15*res.p[41400.0] + 0.15*res.p[40800.0]) + 300.0*(0.15*res.p[42000.0] + 0.15*res.p[41400.0]) + 300.0*(0.15*res.p[42600.0] + 0.15*res.p[42000.0]) + 300.0*(0.15*res.p[43200.0] + 0.15*res.p[42600.0]) + 300.0*(0.15*res.p[43800.0] + 0.15*res.p[43200.0]) + 300.0*(0.15*res.p[44400.0] + 0.15*res.p[43800.0]) + 300.0*(0.15*res.p[45000.0] + 0.15*res.p[44400.0]) + 300.0*(0.15*res.p[45600.0] + 0.15*res.p[45000.0]) + 300.0*(0.15*res.p[46200.0] + 0.15*res.p[45600.0]) + 300.0*(0.15*res.p[46800.0] + 0.15*res.p[46200.0]) + 300.0*(0.15*res.p[47400.0] + 0.15*res.p[46800.0]) + 300.0*(0.15*res.p[48000.0] + 0.15*res.p[47400.0]) + 300.0*(0.15*res.p[48600.0] + 0.15*res.p[48000.0]) + 300.0*(0.15*res.p[49200.0] + 0.15*res.p[48600.0]) + 300.0*(0.15*res.p[49800.0] + 0.15*res.p[49200.0]) + 300.0*(0.15*res.p[50400.0] + 0.15*res.p[49800.0]) + 300.0*(0.15*res.p[51000.0] + 0.15*res.p[50400.0]) + 300.0*(0.15*res.p[51600.0] + 0.15*res.p[51000.0]) + 300.0*(0.15*res.p[52200.0] + 0.15*res.p[51600.0]) + 300.0*(0.15*res.p[52800.0] + 0.15*res.p[52200.0]) + 300.0*(0.15*res.p[53400.0] + 0.15*res.p[52800.0]) + 300.0*(0.15*res.p[54000.0] + 0.15*res.p[53400.0]) + 300.0*(0.15*res.p[54600.0] + 0.15*res.p[54000.0]) + 300.0*(0.15*res.p[55200.0] + 0.15*res.p[54600.0]) + 300.0*(0.15*res.p[55800.0] + 0.15*res.p[55200.0]) + 300.0*(0.15*res.p[56400.0] + 0.15*res.p[55800.0]) + 300.0*(0.15*res.p[57000.0] + 0.15*res.p[56400.0]) + 300.0*(0.15*res.p[57600.0] + 0.15*res.p[57000.0]) + 300.0*(0.15*res.p[58200.0] + 0.15*res.p[57600.0]) + 300.0*(0.15*res.p[58800.0] + 0.15*res.p[58200.0]) + 300.0*(0.15*res.p[59400.0] + 0.15*res.p[58800.0]) + 300.0*(0.15*res.p[60000.0] + 0.15*res.p[59400.0]) + 300.0*(0.15*res.p[60600.0] + 0.15*res.p[60000.0]) + 300.0*(0.15*res.p[61200.0] + 0.15*res.p[60600.0]) + 300.0*(0.15*res.p[61800.0] + 0.15*res.p[61200.0]) + 300.0*(0.15*res.p[62400.0] + 0.15*res.p[61800.0]) + 300.0*(0.15*res.p[63000.0] + 0.15*res.p[62400.0]) + 300.0*(0.15*res.p[63600.0] + 0.15*res.p[63000.0]) + 300.0*(0.15*res.p[64200.0] + 0.15*res.p[63600.0]) + 300.0*(0.15*res.p[64800.0] + 0.15*res.p[64200.0]) + 300.0*(0.15*res.p[65400.0] + 0.15*res.p[64800.0]) + 300.0*(0.15*res.p[66000.0] + 0.15*res.p[65400.0]) + 300.0*(0.15*res.p[66600.0] + 0.15*res.p[66000.0]) + 300.0*(0.15*res.p[67200.0] + 0.15*res.p[66600.0]) + 300.0*(0.15*res.p[67800.0] + 0.15*res.p[67200.0]) + 300.0*(0.15*res.p[68400.0] + 0.15*res.p[67800.0]) + 300.0*(0.15*res.p[69000.0] + 0.15*res.p[68400.0]) + 300.0*(0.15*res.p[69600.0] + 0.15*res.p[69000.0]) + 300.0*(0.15*res.p[70200.0] + 0.15*res.p[69600.0]) + 300.0*(0.15*res.p[70800.0] + 0.15*res.p[70200.0]) + 300.0*(0.15*res.p[71400.0] + 0.15*res.p[70800.0]) + 300.0*(0.15*res.p[72000.0] + 0.15*res.p[71400.0]) + 300.0*(0.15*res.p[72600.0] + 0.15*res.p[72000.0]) + 300.0*(0.15*res.p[73200.0] + 0.15*res.p[72600.0]) + 300.0*(0.15*res.p[73800.0] + 0.15*res.p[73200.0]) + 300.0*(0.15*res.p[74400.0] + 0.15*res.p[73800.0]) + 300.0*(0.15*res.p[75000.0] + 0.15*res.p[74400.0]) + 300.0*(0.15*res.p[75600.0] + 0.15*res.p[75000.0]) + 300.0*(0.15*res.p[76200.0] + 0.15*res.p[75600.0]) + 300.0*(0.15*res.p[76800.0] + 0.15*res.p[76200.0]) + 300.0*(0.15*res.p[77400.0] + 0.15*res.p[76800.0]) + 300.0*(0.15*res.p[78000.0] + 0.15*res.p[77400.0]) + 300.0*(0.15*res.p[78600.0] + 0.15*res.p[78000.0]) + 300.0*(0.15*res.p[79200.0] + 0.15*res.p[78600.0]) + 300.0*(0.15*res.p[79800.0] + 0.15*res.p[79200.0]) + 300.0*(0.15*res.p[80400.0] + 0.15*res.p[79800.0]) + 300.0*(0.15*res.p[81000.0] + 0.15*res.p[80400.0]) + 300.0*(0.15*res.p[81600.0] + 0.15*res.p[81000.0]) + 300.0*(0.15*res.p[82200.0] + 0.15*res.p[81600.0]) + 300.0*(0.15*res.p[82800.0] + 0.15*res.p[82200.0]) + 300.0*(0.15*res.p[83400.0] + 0.15*res.p[82800.0]) + 300.0*(0.15*res.p[84000.0] + 0.15*res.p[83400.0]) + 300.0*(0.15*res.p[84600.0] + 0.15*res.p[84000.0]) + 300.0*(0.15*res.p[85200.0] + 0.15*res.p[84600.0]) + 300.0*(0.15*res.p[85800.0] + 0.15*res.p[85200.0]) + 300.0*(0.15*res.p[86400.0] + 0.15*res.p[85800.0])\n"
     ]
    }
   ],
   "source": [
    "# l'intégrale après discrétisation :\n",
    "m.int_edf.pprint()"
   ]
  },
  {
   "cell_type": "markdown",
   "metadata": {},
   "source": [
    "## Chargement des données\n",
    "\n",
    "En optimisation, il est d'usage de séparer la formulation des données, pour une meilleure lecture et pour réutiliser simplement les modèles.\n",
    "\n",
    "La lecture et le chargement des données peuvent-être réalisées par différentes méthodes selon les formats des données. Dans lms2, nous proposons une forme générique de lire, interpoler et charger les données en utilisant les fonctions `lms2.tools.read_data` et `lms2.load_data`. Se référer aux documentations pour plus d'information.\n",
    "\n",
    "### Lecture des données à partir d'un fichier csv\n",
    "\n",
    "La fonction `read_data` gère plusieurs formats de données, ou plutôt, pluseurs formats d'index.\n",
    "\n",
    "#### Index entier\n",
    "\n",
    "Si les données sont indexées par une colonne en seconde. L'unité utilisée peut-être renseignée (par défaut 's'), la zone peut-être renseignée (défaut : Europe/Paris), et la date de début des données doit être renseignée. Cet index est ensuite automatiquement transformé en date.\n",
    " "
   ]
  },
  {
   "cell_type": "code",
   "execution_count": 14,
   "metadata": {},
   "outputs": [
    {
     "data": {
      "text/html": [
       "<div>\n",
       "<style scoped>\n",
       "    .dataframe tbody tr th:only-of-type {\n",
       "        vertical-align: middle;\n",
       "    }\n",
       "\n",
       "    .dataframe tbody tr th {\n",
       "        vertical-align: top;\n",
       "    }\n",
       "\n",
       "    .dataframe thead th {\n",
       "        text-align: right;\n",
       "    }\n",
       "</style>\n",
       "<table border=\"1\" class=\"dataframe\">\n",
       "  <thead>\n",
       "    <tr style=\"text-align: right;\">\n",
       "      <th></th>\n",
       "      <th>base_load1</th>\n",
       "      <th>base_load2</th>\n",
       "      <th>base_load3</th>\n",
       "      <th>time (s)</th>\n",
       "    </tr>\n",
       "  </thead>\n",
       "  <tbody>\n",
       "    <tr>\n",
       "      <th>2020-01-01 00:00:00+01:00</th>\n",
       "      <td>191.699997</td>\n",
       "      <td>29.0</td>\n",
       "      <td>319.552185</td>\n",
       "      <td>0</td>\n",
       "    </tr>\n",
       "    <tr>\n",
       "      <th>2020-01-01 00:10:00+01:00</th>\n",
       "      <td>191.699997</td>\n",
       "      <td>29.0</td>\n",
       "      <td>288.000000</td>\n",
       "      <td>600</td>\n",
       "    </tr>\n",
       "    <tr>\n",
       "      <th>2020-01-01 00:20:00+01:00</th>\n",
       "      <td>191.699997</td>\n",
       "      <td>29.0</td>\n",
       "      <td>443.000000</td>\n",
       "      <td>1200</td>\n",
       "    </tr>\n",
       "    <tr>\n",
       "      <th>2020-01-01 00:30:00+01:00</th>\n",
       "      <td>191.699997</td>\n",
       "      <td>29.0</td>\n",
       "      <td>443.000000</td>\n",
       "      <td>1800</td>\n",
       "    </tr>\n",
       "    <tr>\n",
       "      <th>2020-01-01 00:40:00+01:00</th>\n",
       "      <td>191.699997</td>\n",
       "      <td>153.0</td>\n",
       "      <td>215.399994</td>\n",
       "      <td>2400</td>\n",
       "    </tr>\n",
       "  </tbody>\n",
       "</table>\n",
       "</div>"
      ],
      "text/plain": [
       "                           base_load1  base_load2  base_load3  time (s)\n",
       "2020-01-01 00:00:00+01:00  191.699997        29.0  319.552185         0\n",
       "2020-01-01 00:10:00+01:00  191.699997        29.0  288.000000       600\n",
       "2020-01-01 00:20:00+01:00  191.699997        29.0  443.000000      1200\n",
       "2020-01-01 00:30:00+01:00  191.699997        29.0  443.000000      1800\n",
       "2020-01-01 00:40:00+01:00  191.699997       153.0  215.399994      2400"
      ]
     },
     "execution_count": 14,
     "metadata": {},
     "output_type": "execute_result"
    }
   ],
   "source": [
    "from lms2.tools.data_processing import read_data, load_data\n",
    "import os\n",
    "\n",
    "data_charge = read_data(horizon, os.path.join(os.getcwd(), 'data', 'base_loads.csv'),\n",
    "                        usecols=[0, 1, 2, 3],\n",
    "                        unit='s',\n",
    "                        tz_data= 'Europe/Paris',\n",
    "                        start_date='2020-01-01 00:00:00')\n",
    "\n",
    "data_charge.head(5)"
   ]
  },
  {
   "cell_type": "code",
   "execution_count": 15,
   "metadata": {},
   "outputs": [
    {
     "data": {
      "image/png": "[encoded data removed]",
      "text/plain": [
       "<Figure size 720x216 with 1 Axes>"
      ]
     },
     "metadata": {
      "needs_background": "light"
     },
     "output_type": "display_data"
    }
   ],
   "source": [
    "import matplotlib.pyplot as plt\n",
    "\n",
    "data_charge[['base_load1', 'base_load2', 'base_load3']].plot(figsize=(10, 3), \n",
    "                                                             title='Trois profils de puissance de la charge (kW)')\n",
    "plt.grid('on')"
   ]
  },
  {
   "cell_type": "markdown",
   "metadata": {},
   "source": [
    "#### Index en chaîne de caractères\n",
    "\n",
    "Si les données sont indexées par une chaine de caractère dont le format est celui d'une date. Dans ce cas, la date de début et l'unité ne sont pas utiles. La colonne d'index est parsée, utilisant le format définit dans date_parser."
   ]
  },
  {
   "cell_type": "code",
   "execution_count": 16,
   "metadata": {},
   "outputs": [
    {
     "data": {
      "text/html": [
       "<div>\n",
       "<style scoped>\n",
       "    .dataframe tbody tr th:only-of-type {\n",
       "        vertical-align: middle;\n",
       "    }\n",
       "\n",
       "    .dataframe tbody tr th {\n",
       "        vertical-align: top;\n",
       "    }\n",
       "\n",
       "    .dataframe thead th {\n",
       "        text-align: right;\n",
       "    }\n",
       "</style>\n",
       "<table border=\"1\" class=\"dataframe\">\n",
       "  <thead>\n",
       "    <tr style=\"text-align: right;\">\n",
       "      <th></th>\n",
       "      <th>p_PV</th>\n",
       "    </tr>\n",
       "  </thead>\n",
       "  <tbody>\n",
       "    <tr>\n",
       "      <th>2020-01-01 00:00:00+01:00</th>\n",
       "      <td>0.0</td>\n",
       "    </tr>\n",
       "    <tr>\n",
       "      <th>2020-01-01 00:10:00+01:00</th>\n",
       "      <td>0.0</td>\n",
       "    </tr>\n",
       "    <tr>\n",
       "      <th>2020-01-01 00:20:00+01:00</th>\n",
       "      <td>0.0</td>\n",
       "    </tr>\n",
       "    <tr>\n",
       "      <th>2020-01-01 00:30:00+01:00</th>\n",
       "      <td>0.0</td>\n",
       "    </tr>\n",
       "    <tr>\n",
       "      <th>2020-01-01 00:40:00+01:00</th>\n",
       "      <td>0.0</td>\n",
       "    </tr>\n",
       "  </tbody>\n",
       "</table>\n",
       "</div>"
      ],
      "text/plain": [
       "                           p_PV\n",
       "2020-01-01 00:00:00+01:00   0.0\n",
       "2020-01-01 00:10:00+01:00   0.0\n",
       "2020-01-01 00:20:00+01:00   0.0\n",
       "2020-01-01 00:30:00+01:00   0.0\n",
       "2020-01-01 00:40:00+01:00   0.0"
      ]
     },
     "execution_count": 16,
     "metadata": {},
     "output_type": "execute_result"
    }
   ],
   "source": [
    "data_pv = read_data(horizon, os.path.join(os.getcwd(), 'data', 'pv_2020.csv'),\n",
    "                    usecols=[0, 2],\n",
    "                    date_parser=\"%d/%m/%Y %H:%M\")\n",
    "\n",
    "data_pv.head(5)"
   ]
  },
  {
   "cell_type": "code",
   "execution_count": 17,
   "metadata": {},
   "outputs": [
    {
     "data": {
      "image/png": "[encoded data removed]",
      "text/plain": [
       "<Figure size 720x216 with 1 Axes>"
      ]
     },
     "metadata": {
      "needs_background": "light"
     },
     "output_type": "display_data"
    }
   ],
   "source": [
    "data_pv.plot(title='Profil de puissance des PV', figsize=(10, 3))\n",
    "plt.grid('on')"
   ]
  },
  {
   "cell_type": "code",
   "execution_count": 18,
   "metadata": {},
   "outputs": [
    {
     "name": "stderr",
     "output_type": "stream",
     "text": [
      "data index and variable index does not have the same name. This could be a source of error...\n"
     ]
    },
    {
     "ename": "AssertionError",
     "evalue": "trying to load data on a non-Parameter object...pv.p is of type <class 'type'>.",
     "output_type": "error",
     "traceback": [
      "\u001b[0;31m---------------------------------------------------------------------------\u001b[0m",
      "\u001b[0;31mAssertionError\u001b[0m                            Traceback (most recent call last)",
      "\u001b[0;32m/tmp/ipykernel_30830/281562822.py\u001b[0m in \u001b[0;36m<module>\u001b[0;34m\u001b[0m\n\u001b[0;32m----> 1\u001b[0;31m \u001b[0mload_data\u001b[0m\u001b[0;34m(\u001b[0m\u001b[0mhorizon\u001b[0m\u001b[0;34m,\u001b[0m \u001b[0mm\u001b[0m\u001b[0;34m.\u001b[0m\u001b[0mpv\u001b[0m\u001b[0;34m.\u001b[0m\u001b[0mp\u001b[0m\u001b[0;34m,\u001b[0m \u001b[0mdata_pv\u001b[0m\u001b[0;34m[\u001b[0m\u001b[0;34m'p_PV'\u001b[0m\u001b[0;34m]\u001b[0m\u001b[0;34m)\u001b[0m\u001b[0;34m\u001b[0m\u001b[0;34m\u001b[0m\u001b[0m\n\u001b[0m\u001b[1;32m      2\u001b[0m \u001b[0mload_data\u001b[0m\u001b[0;34m(\u001b[0m\u001b[0mhorizon\u001b[0m\u001b[0;34m,\u001b[0m \u001b[0mm\u001b[0m\u001b[0;34m.\u001b[0m\u001b[0mcharge\u001b[0m\u001b[0;34m.\u001b[0m\u001b[0mp\u001b[0m\u001b[0;34m,\u001b[0m \u001b[0mdata_charge\u001b[0m\u001b[0;34m[\u001b[0m\u001b[0;34m'base_load1'\u001b[0m\u001b[0;34m]\u001b[0m\u001b[0;34m)\u001b[0m\u001b[0;34m\u001b[0m\u001b[0;34m\u001b[0m\u001b[0m\n",
      "\u001b[0;32m~/Documents/02-Recherche/02-Python/lms2/lms2/tools/data_processing.py\u001b[0m in \u001b[0;36mload_data\u001b[0;34m(horizon, param, data)\u001b[0m\n\u001b[1;32m     35\u001b[0m         \u001b[0mlogger\u001b[0m\u001b[0;34m.\u001b[0m\u001b[0mwarning\u001b[0m\u001b[0;34m(\u001b[0m\u001b[0;34m'data index and variable index does not have the same name. This could be a source of error...'\u001b[0m\u001b[0;34m)\u001b[0m\u001b[0;34m\u001b[0m\u001b[0;34m\u001b[0m\u001b[0m\n\u001b[1;32m     36\u001b[0m \u001b[0;34m\u001b[0m\u001b[0m\n\u001b[0;32m---> 37\u001b[0;31m     \u001b[0;32massert\u001b[0m \u001b[0misinstance\u001b[0m\u001b[0;34m(\u001b[0m\u001b[0mparam\u001b[0m\u001b[0;34m,\u001b[0m \u001b[0mpyomo\u001b[0m\u001b[0;34m.\u001b[0m\u001b[0mcore\u001b[0m\u001b[0;34m.\u001b[0m\u001b[0mbase\u001b[0m\u001b[0;34m.\u001b[0m\u001b[0mparam\u001b[0m\u001b[0;34m.\u001b[0m\u001b[0mIndexedParam\u001b[0m\u001b[0;34m)\u001b[0m\u001b[0;34m,\u001b[0m \u001b[0;34mf'trying to load data on a non-Parameter object...'\u001b[0m\u001b[0;31m \u001b[0m\u001b[0;31m\\\u001b[0m\u001b[0;34m\u001b[0m\u001b[0;34m\u001b[0m\u001b[0m\n\u001b[0m\u001b[1;32m     38\u001b[0m                                                                   \u001b[0;34mf'{param} is of type {type(Param)}.'\u001b[0m\u001b[0;34m\u001b[0m\u001b[0;34m\u001b[0m\u001b[0m\n\u001b[1;32m     39\u001b[0m \u001b[0;34m\u001b[0m\u001b[0m\n",
      "\u001b[0;31mAssertionError\u001b[0m: trying to load data on a non-Parameter object...pv.p is of type <class 'type'>."
     ]
    }
   ],
   "source": [
    "load_data(horizon, m.pv.p, data_pv['p_PV'])\n",
    "load_data(horizon, m.charge.p, data_charge['base_load1'])"
   ]
  },
  {
   "cell_type": "code",
   "execution_count": 21,
   "metadata": {},
   "outputs": [
    {
     "name": "stdout",
     "output_type": "stream",
     "text": [
      "p : power source profile after scaling (kW)\n",
      "    Size=145, Index=time\n",
      "    Key     : Lower : Value : Upper : Fixed : Stale : Domain\n",
      "          0 :  None :   0.0 :  None : False : False :  Reals\n",
      "      600.0 :  None :   0.0 :  None : False : False :  Reals\n",
      "     1200.0 :  None :   0.0 :  None : False : False :  Reals\n",
      "     1800.0 :  None :   0.0 :  None : False : False :  Reals\n",
      "     2400.0 :  None :   0.0 :  None : False : False :  Reals\n",
      "     3000.0 :  None :   0.0 :  None : False : False :  Reals\n",
      "     3600.0 :  None :   0.0 :  None : False : False :  Reals\n",
      "     4200.0 :  None :   0.0 :  None : False : False :  Reals\n",
      "     4800.0 :  None :   0.0 :  None : False : False :  Reals\n",
      "     5400.0 :  None :   0.0 :  None : False : False :  Reals\n",
      "     6000.0 :  None :   0.0 :  None : False : False :  Reals\n",
      "     6600.0 :  None :   0.0 :  None : False : False :  Reals\n",
      "     7200.0 :  None :   0.0 :  None : False : False :  Reals\n",
      "     7800.0 :  None :   0.0 :  None : False : False :  Reals\n",
      "     8400.0 :  None :   0.0 :  None : False : False :  Reals\n",
      "     9000.0 :  None :   0.0 :  None : False : False :  Reals\n",
      "     9600.0 :  None :   0.0 :  None : False : False :  Reals\n",
      "    10200.0 :  None :   0.0 :  None : False : False :  Reals\n",
      "    10800.0 :  None :   0.0 :  None : False : False :  Reals\n",
      "    11400.0 :  None :   0.0 :  None : False : False :  Reals\n",
      "    12000.0 :  None :   0.0 :  None : False : False :  Reals\n",
      "    12600.0 :  None :   0.0 :  None : False : False :  Reals\n",
      "    13200.0 :  None :   0.0 :  None : False : False :  Reals\n",
      "    13800.0 :  None :   0.0 :  None : False : False :  Reals\n",
      "    14400.0 :  None :   0.0 :  None : False : False :  Reals\n",
      "    15000.0 :  None :   0.0 :  None : False : False :  Reals\n",
      "    15600.0 :  None :   0.0 :  None : False : False :  Reals\n",
      "    16200.0 :  None :   0.0 :  None : False : False :  Reals\n",
      "    16800.0 :  None :   0.0 :  None : False : False :  Reals\n",
      "    17400.0 :  None :   0.0 :  None : False : False :  Reals\n",
      "    18000.0 :  None :   0.0 :  None : False : False :  Reals\n",
      "    18600.0 :  None :   0.0 :  None : False : False :  Reals\n",
      "    19200.0 :  None :   0.0 :  None : False : False :  Reals\n",
      "    19800.0 :  None :   0.0 :  None : False : False :  Reals\n",
      "    20400.0 :  None :   0.0 :  None : False : False :  Reals\n",
      "    21000.0 :  None :   0.0 :  None : False : False :  Reals\n",
      "    21600.0 :  None :   0.0 :  None : False : False :  Reals\n",
      "    22200.0 :  None :   0.0 :  None : False : False :  Reals\n",
      "    22800.0 :  None :   0.0 :  None : False : False :  Reals\n",
      "    23400.0 :  None :   0.0 :  None : False : False :  Reals\n",
      "    24000.0 :  None :   0.0 :  None : False : False :  Reals\n",
      "    24600.0 :  None :   0.0 :  None : False : False :  Reals\n",
      "    25200.0 :  None :   0.0 :  None : False : False :  Reals\n",
      "    25800.0 :  None :   0.0 :  None : False : False :  Reals\n",
      "    26400.0 :  None :   0.0 :  None : False : False :  Reals\n",
      "    27000.0 :  None :   0.0 :  None : False : False :  Reals\n",
      "    27600.0 :  None :   0.0 :  None : False : False :  Reals\n",
      "    28200.0 :  None :   0.0 :  None : False : False :  Reals\n",
      "    28800.0 :  None :   0.0 :  None : False : False :  Reals\n",
      "    29400.0 :  None :   0.0 :  None : False : False :  Reals\n",
      "    30000.0 :  None :   0.0 :  None : False : False :  Reals\n",
      "    30600.0 :  None :   0.0 :  None : False : False :  Reals\n",
      "    31200.0 :  None :   0.0 :  None : False : False :  Reals\n",
      "    31800.0 :  None :   0.0 :  None : False : False :  Reals\n",
      "    32400.0 :  None :   0.0 :  None : False : False :  Reals\n",
      "    33000.0 :  None :   0.0 :  None : False : False :  Reals\n",
      "    33600.0 :  None :   0.0 :  None : False : False :  Reals\n",
      "    34200.0 :  None :   0.0 :  None : False : False :  Reals\n",
      "    34800.0 :  None :   0.0 :  None : False : False :  Reals\n",
      "    35400.0 :  None :   0.0 :  None : False : False :  Reals\n",
      "    36000.0 :  None :   0.0 :  None : False : False :  Reals\n",
      "    36600.0 :  None :   0.0 :  None : False : False :  Reals\n",
      "    37200.0 :  None :   0.0 :  None : False : False :  Reals\n",
      "    37800.0 :  None :   0.0 :  None : False : False :  Reals\n",
      "    38400.0 :  None :   0.0 :  None : False : False :  Reals\n",
      "    39000.0 :  None :   0.0 :  None : False : False :  Reals\n",
      "    39600.0 :  None :   0.0 :  None : False : False :  Reals\n",
      "    40200.0 :  None :   0.0 :  None : False : False :  Reals\n",
      "    40800.0 :  None :   0.0 :  None : False : False :  Reals\n",
      "    41400.0 :  None :   0.0 :  None : False : False :  Reals\n",
      "    42000.0 :  None :   0.0 :  None : False : False :  Reals\n",
      "    42600.0 :  None :   0.0 :  None : False : False :  Reals\n",
      "    43200.0 :  None :   0.0 :  None : False : False :  Reals\n",
      "    43800.0 :  None :   0.0 :  None : False : False :  Reals\n",
      "    44400.0 :  None :   0.0 :  None : False : False :  Reals\n",
      "    45000.0 :  None :   0.0 :  None : False : False :  Reals\n",
      "    45600.0 :  None :   0.0 :  None : False : False :  Reals\n",
      "    46200.0 :  None :   0.0 :  None : False : False :  Reals\n",
      "    46800.0 :  None :   0.0 :  None : False : False :  Reals\n",
      "    47400.0 :  None :   0.0 :  None : False : False :  Reals\n",
      "    48000.0 :  None :   0.0 :  None : False : False :  Reals\n",
      "    48600.0 :  None :   0.0 :  None : False : False :  Reals\n",
      "    49200.0 :  None :   0.0 :  None : False : False :  Reals\n",
      "    49800.0 :  None :   0.0 :  None : False : False :  Reals\n",
      "    50400.0 :  None :   0.0 :  None : False : False :  Reals\n",
      "    51000.0 :  None :   0.0 :  None : False : False :  Reals\n",
      "    51600.0 :  None :   0.0 :  None : False : False :  Reals\n",
      "    52200.0 :  None :   0.0 :  None : False : False :  Reals\n",
      "    52800.0 :  None :   0.0 :  None : False : False :  Reals\n",
      "    53400.0 :  None :   0.0 :  None : False : False :  Reals\n",
      "    54000.0 :  None :   0.0 :  None : False : False :  Reals\n",
      "    54600.0 :  None :   0.0 :  None : False : False :  Reals\n",
      "    55200.0 :  None :   0.0 :  None : False : False :  Reals\n",
      "    55800.0 :  None :   0.0 :  None : False : False :  Reals\n",
      "    56400.0 :  None :   0.0 :  None : False : False :  Reals\n",
      "    57000.0 :  None :   0.0 :  None : False : False :  Reals\n",
      "    57600.0 :  None :   0.0 :  None : False : False :  Reals\n",
      "    58200.0 :  None :   0.0 :  None : False : False :  Reals\n",
      "    58800.0 :  None :   0.0 :  None : False : False :  Reals\n",
      "    59400.0 :  None :   0.0 :  None : False : False :  Reals\n",
      "    60000.0 :  None :   0.0 :  None : False : False :  Reals\n",
      "    60600.0 :  None :   0.0 :  None : False : False :  Reals\n",
      "    61200.0 :  None :   0.0 :  None : False : False :  Reals\n",
      "    61800.0 :  None :   0.0 :  None : False : False :  Reals\n",
      "    62400.0 :  None :   0.0 :  None : False : False :  Reals\n",
      "    63000.0 :  None :   0.0 :  None : False : False :  Reals\n",
      "    63600.0 :  None :   0.0 :  None : False : False :  Reals\n",
      "    64200.0 :  None :   0.0 :  None : False : False :  Reals\n",
      "    64800.0 :  None :   0.0 :  None : False : False :  Reals\n",
      "    65400.0 :  None :   0.0 :  None : False : False :  Reals\n",
      "    66000.0 :  None :   0.0 :  None : False : False :  Reals\n",
      "    66600.0 :  None :   0.0 :  None : False : False :  Reals\n",
      "    67200.0 :  None :   0.0 :  None : False : False :  Reals\n",
      "    67800.0 :  None :   0.0 :  None : False : False :  Reals\n",
      "    68400.0 :  None :   0.0 :  None : False : False :  Reals\n",
      "    69000.0 :  None :   0.0 :  None : False : False :  Reals\n",
      "    69600.0 :  None :   0.0 :  None : False : False :  Reals\n",
      "    70200.0 :  None :   0.0 :  None : False : False :  Reals\n",
      "    70800.0 :  None :   0.0 :  None : False : False :  Reals\n",
      "    71400.0 :  None :   0.0 :  None : False : False :  Reals\n",
      "    72000.0 :  None :   0.0 :  None : False : False :  Reals\n",
      "    72600.0 :  None :   0.0 :  None : False : False :  Reals\n",
      "    73200.0 :  None :   0.0 :  None : False : False :  Reals\n",
      "    73800.0 :  None :   0.0 :  None : False : False :  Reals\n",
      "    74400.0 :  None :   0.0 :  None : False : False :  Reals\n",
      "    75000.0 :  None :   0.0 :  None : False : False :  Reals\n",
      "    75600.0 :  None :   0.0 :  None : False : False :  Reals\n",
      "    76200.0 :  None :   0.0 :  None : False : False :  Reals\n",
      "    76800.0 :  None :   0.0 :  None : False : False :  Reals\n",
      "    77400.0 :  None :   0.0 :  None : False : False :  Reals\n",
      "    78000.0 :  None :   0.0 :  None : False : False :  Reals\n",
      "    78600.0 :  None :   0.0 :  None : False : False :  Reals\n",
      "    79200.0 :  None :   0.0 :  None : False : False :  Reals\n",
      "    79800.0 :  None :   0.0 :  None : False : False :  Reals\n",
      "    80400.0 :  None :   0.0 :  None : False : False :  Reals\n",
      "    81000.0 :  None :   0.0 :  None : False : False :  Reals\n",
      "    81600.0 :  None :   0.0 :  None : False : False :  Reals\n",
      "    82200.0 :  None :   0.0 :  None : False : False :  Reals\n",
      "    82800.0 :  None :   0.0 :  None : False : False :  Reals\n",
      "    83400.0 :  None :   0.0 :  None : False : False :  Reals\n",
      "    84000.0 :  None :   0.0 :  None : False : False :  Reals\n",
      "    84600.0 :  None :   0.0 :  None : False : False :  Reals\n",
      "    85200.0 :  None :   0.0 :  None : False : False :  Reals\n",
      "    85800.0 :  None :   0.0 :  None : False : False :  Reals\n",
      "    86400.0 :  None :   0.0 :  None : False : False :  Reals\n"
     ]
    }
   ],
   "source": [
    "m.pv.p.pprint()"
   ]
  },
  {
   "cell_type": "code",
   "execution_count": 19,
   "metadata": {},
   "outputs": [],
   "source": [
    "# solver\n",
    "#sol = SolverFactory('gurobi', solver_io=\"direct\")\n",
    "sol = SolverFactory('glpk')\n",
    "res = sol.solve(m)"
   ]
  },
  {
   "cell_type": "code",
   "execution_count": 20,
   "metadata": {},
   "outputs": [
    {
     "data": {
      "image/png": "[encoded data removed]",
      "text/plain": [
       "<Figure size 1080x432 with 4 Axes>"
      ]
     },
     "metadata": {
      "needs_background": "light"
     },
     "output_type": "display_data"
    }
   ],
   "source": [
    "# post-processing\n",
    "import matplotlib.pyplot as plt\n",
    "from lms2.tools.post_processing import *\n",
    "\n",
    "fig, ax = plt.subplots(nrows=2, ncols=2, sharex='all', figsize=(15, 6))\n",
    "pplot(m.bat.p, m.pv.p, m.charge.p, m.res.p,\n",
    "      ax=ax[0][0],\n",
    "      title='Bilan de Puissance',\n",
    "      fig=fig,\n",
    "      index=horizon.current,\n",
    "      bbox_to_anchor = (0, -0.12, 1, 0.2))\n",
    "\n",
    "pplot(m.pv.p, m.pv.p0, ax=ax[1][0], title='Puissance PV', fig=fig, index=horizon.current, bbox_to_anchor = (0, -0.2, 1, 0.2))\n",
    "pplot(m.bat.e, ax=ax[0][1], title='Etat de charge Batterie', fig=fig, index=horizon.current, bbox_to_anchor = (0, -0.12, 1, 0.2))\n",
    "pplot(m.cout_inst_edf, ax=ax[1][1], title='Cout EDF instantané', fig=fig, index=horizon.current, bbox_to_anchor = (0, -0.2, 1, 0.2))\n",
    "\n",
    "plt.show()\n"
   ]
  }
 ],
 "metadata": {
  "kernelspec": {
   "display_name": "Python 3",
   "language": "python",
   "name": "python3"
  },
  "language_info": {
   "codemirror_mode": {
    "name": "ipython",
    "version": 3
   },
   "file_extension": ".py",
   "mimetype": "text/x-python",
   "name": "python",
   "nbconvert_exporter": "python",
   "pygments_lexer": "ipython3",
   "version": "3.9.7"
  }
 },
 "nbformat": 4,
 "nbformat_minor": 1
}
