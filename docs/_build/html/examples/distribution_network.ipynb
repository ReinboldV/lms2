{
 "cells": [
  {
   "cell_type": "markdown",
   "id": "798e353ba23f371b",
   "metadata": {
    "collapsed": false
   },
   "source": [
    "# Exemple de Linearized LoadFlow avec pyomo\n",
    "\n",
    "Dans cet exemple, on présente les étapes et les outils développés dans lms2 pour réaliser l'optimistion d'un LinDistFlow. \n",
    "Pour rappel, le LinDistFlow est une approximation linéaire pour les réseaux de distribution radiaux. C'ette implémentation modélise un réseau triphasé déséquilibré provenant de  E. Stewart, « A Linearized Power Flow Model for Optimization in Unbalanced Distribution Systems », 2016\n",
    "\n",
    "Dans cet exemple, \n",
    "    \n",
    "    1. On crée un graphe fictif avec une structure de donnée particulière\n",
    "    2.  \n",
    "        - On instancie le problème d'optimisation, en utilisant la fonction `network_3phases_lindistflow`, qui prend en entrée le graphe puis définit variablses et paraètres en conséquence. \n",
    "        - On initialise les conditions limites. Ici, il s'agit principalement de charger les profils d'injection de puissance active et réactive en chaque noeud du graphe. \n",
    "    3. On résout le problème\n",
    "    4. On récupère les valeurs de tensions à chaque noeud pour les afficher dans un graphe. Puis on enregistre le graphe au format json. "
   ]
  },
  {
   "cell_type": "markdown",
   "id": "7adccc5f93cdbf55",
   "metadata": {
    "collapsed": false
   },
   "source": [
    "## 1. Creating network and data structure\n",
    "\n",
    "Dans cette partie, on crée un graphe de données en utilsant la bibliothèque networkx. Les noeuds du graphe sont des noeuds électriques triphasés. Les branches sont des connexions triphasées. Les données du graphe sont utilisées pour enregistrer des grandeurs du type longeur, résistance linéïque, etc. "
   ]
  },
  {
   "cell_type": "markdown",
   "id": "56b981ea130ab12d",
   "metadata": {
    "collapsed": false
   },
   "source": [
    "On commence par définir un type de câble. (ce serait bien d'avoir une base de donnée de câbles dans laquelle on puisse choisir...)"
   ]
  },
  {
   "cell_type": "code",
   "execution_count": 24,
   "id": "a69b844c34b840c3",
   "metadata": {
    "ExecuteTime": {
     "end_time": "2024-02-26T20:22:33.554959750Z",
     "start_time": "2024-02-26T20:22:33.510021296Z"
    },
    "collapsed": false
   },
   "outputs": [],
   "source": [
    "from sphinx.ext.graphviz import graphviz\n",
    "\n",
    "from lms2.electric.network import Cable\n",
    "import numpy as np\n",
    "\n",
    "cable_3_150_95 = Cable(name  = 'cable_3_150_95',\n",
    "                       doc   = 'Cable triphasé de section 150 mm²',\n",
    "                       type  = 'triphasé 3 fils',\n",
    "                       r     = np.array([[0.3953, 0.1834, 0.1908], [0.1834, 0.3809, 0.1834], [0.1908, 0.1834, 0.3953]]),\n",
    "                       x     = np.array([[0.1602, 0.1216, 0.0844], [0.1216, 0.2067, 0.1216], [0.0844, 0.1216, 0.1602]]),\n",
    "                       v_nom = 230,\n",
    "                       s_nom = 250/3)"
   ]
  },
  {
   "cell_type": "markdown",
   "id": "f79d15bd6f0300a",
   "metadata": {
    "collapsed": false
   },
   "source": [
    "On peut maintenant créer un graphe qui contiendra les nœuds, les branches et des données du type : longueurs, et type de conducteurs. Ça peut paraître un peu lourd de définir un conducteur par branche, mais c'est ce qu'il y a de plus générique. Pour un réseau plus grand, c'est facilement réalisable avec une boucle sur les branches. On pourrait par la suite imaginer représenter le transfo par un type de branche différent."
   ]
  },
  {
   "cell_type": "code",
   "execution_count": 25,
   "id": "6be0e564470a8eee",
   "metadata": {
    "ExecuteTime": {
     "end_time": "2024-02-26T20:22:33.584960646Z",
     "start_time": "2024-02-26T20:22:33.560677831Z"
    },
    "collapsed": false
   },
   "outputs": [],
   "source": [
    "import networkx as nx\n",
    "\n",
    "edges = [(0, 1, {'length': 10, 'cable': cable_3_150_95}),\n",
    "         (1, 2, {'length': 20, 'cable': cable_3_150_95}),\n",
    "         (2, 3, {'length': 20, 'cable': cable_3_150_95}),\n",
    "         (1, 4, {'length': 20, 'cable': cable_3_150_95})]\n",
    "\n",
    "g = nx.from_edgelist(edges, create_using=nx.DiGraph())\n"
   ]
  },
  {
   "cell_type": "markdown",
   "id": "5e6331033cc8891b",
   "metadata": {
    "collapsed": false
   },
   "source": [
    "Pour simplifier l'écriture des équations du modèle DistFlow, on calcule les matrices notées R et X qui interviennent dans l'équation du modèle, telles que :  \n",
    "\n",
    "\n",
    "$V_j^2 = V_i^2 - 2(RP_{ij}+XQ_{ij})$"
   ]
  },
  {
   "cell_type": "markdown",
   "id": "c6f3ea12acc677c8",
   "metadata": {
    "collapsed": false
   },
   "source": [
    "Pour chaque noeud du graphe, on ajoute une donnée `fix_p_out=True/False` et `fix_q_out=True/False`. À noter que ce sont des vecteurs de taille de la même taille que `phases`.  \n",
    "\n",
    "Ce qui permet, à la création du modèle d'optimisation, d'instantier une variable et de fixer ou non ses valeurs. On ajoute des valeurs nominales de p_out et q_out pour l'initialisation (seulement effectif si le profil est fixé). Si fix_p_out d'une phase est False, on regarde s'il y a des bornes p_out_max, p_out_min, q_out_max, q_out_min.\n",
    "\n",
    "Pour l'exemple, on fixe les profils de tous les nœuds, sauf le 3eme, phase c.  \n"
   ]
  },
  {
   "cell_type": "code",
   "execution_count": 26,
   "id": "6cfed9d45b9189d2",
   "metadata": {
    "ExecuteTime": {
     "end_time": "2024-02-26T20:22:33.609590108Z",
     "start_time": "2024-02-26T20:22:33.583230729Z"
    },
    "collapsed": false
   },
   "outputs": [
    {
     "name": "stdout",
     "output_type": "stream",
     "text": [
      "Q_out is fixed ? :  {0: (True, True, True), 1: (True, True, True), 2: (True, True, True), 3: (True, True, False), 4: (True, True, True)}\n",
      "P_out is fixed ? :  {0: (True, True, True), 1: (True, True, True), 2: (True, True, True), 3: (True, True, False), 4: (True, True, True)}\n"
     ]
    }
   ],
   "source": [
    "import random\n",
    "\n",
    "\n",
    "for n in g.nodes():\n",
    "    g.nodes[n]['p_out_min'] = (-1e3, -1e3, -1e3)\n",
    "    g.nodes[n]['p_out_max'] = (1e3, 1e3, 1e3)\n",
    "    g.nodes[n]['q_out_min'] = (-1e3, -1e3, -1e3)\n",
    "    g.nodes[n]['q_out_max'] = (1e3, 1e3, 1e3)\n",
    "\n",
    "for n in [0, 1, 2, 4]:\n",
    "    g.nodes[n]['fix_p_out'] = (True, True, True)\n",
    "    g.nodes[n]['fix_q_out'] = (True, True, True)\n",
    "    liste = [0] * 3\n",
    "    liste[random.randint(0, 2)] = 20\n",
    "    g.nodes[n]['p_out'] = liste\n",
    "    g.nodes[n]['q_out'] = (0, 0, 0)\n",
    "\n",
    "# On libère l'injection de puissance active sur la phase c du noeud 3 :\n",
    "g.nodes[3]['fix_p_out'] = (True, True, False)\n",
    "g.nodes[3]['fix_q_out'] = (True, True, False)\n",
    "\n",
    "\n",
    "print('Q_out is fixed ? : ', {node : data['fix_q_out'] for node, data in g.nodes(data=True)})\n",
    "print('P_out is fixed ? : ', {node : data['fix_p_out'] for node, data in g.nodes(data=True)})"
   ]
  },
  {
   "cell_type": "code",
   "execution_count": 27,
   "id": "26f8c16cecce6ec",
   "metadata": {
    "ExecuteTime": {
     "end_time": "2024-02-26T20:22:33.622638037Z",
     "start_time": "2024-02-26T20:22:33.609767413Z"
    },
    "collapsed": false
   },
   "outputs": [
    {
     "data": {
      "text/plain": [
       "<networkx.classes.digraph.DiGraph at 0x7fa15f348c10>"
      ]
     },
     "execution_count": 27,
     "metadata": {},
     "output_type": "execute_result"
    }
   ],
   "source": [
    "from lms2.electric.graph_utils import calc_edge_pq_matrix\n",
    "\n",
    "calc_edge_pq_matrix(g)"
   ]
  },
  {
   "cell_type": "markdown",
   "id": "330cc9c553b55551",
   "metadata": {
    "collapsed": false
   },
   "source": [
    "## 2. Création du problème d'optimisation simple\n",
    "\n",
    "### 1. Instantiation du problème \n",
    "\n",
    "On instancie un modèle vide, on définit un horizon temporel d'un jour et on utilise le graphe précédemment généré pour instancié le problème de LoadFlow, sous forme d'un bloc Pyomo."
   ]
  },
  {
   "cell_type": "code",
   "execution_count": 28,
   "id": "a0c6022394465705",
   "metadata": {
    "ExecuteTime": {
     "end_time": "2024-02-26T20:22:33.727687439Z",
     "start_time": "2024-02-26T20:22:33.631776301Z"
    },
    "collapsed": false
   },
   "outputs": [],
   "source": [
    "from pyomo.environ import *\n",
    "\n",
    "m = ConcreteModel()\n",
    "\n",
    "from lms2.core.horizon import SimpleHorizon\n",
    "from lms2.electric.network import network_3phases_lindistflow\n",
    "\n",
    "horizon = SimpleHorizon(tstart='2024-01-01 00:00:00', tend='2024-01-01 01:00:00', time_step='15min')\n",
    "m.time = Set(initialize=horizon.index)\n",
    "m.dist = Block(rule=lambda b: network_3phases_lindistflow(b, **{'time': m.time, 'graph': g}))"
   ]
  },
  {
   "cell_type": "markdown",
   "id": "a10d68005a696ef",
   "metadata": {
    "collapsed": false
   },
   "source": [
    "### 2. Chargement des données\n",
    "\n",
    "Si les données sont indexées par une colonne en seconde. L'unité utilisée peut-être renseignée (par défaut 's'), la zone peut être renseignée (défaut : Europe/Paris), et la date de début des données doit être renseignée. Cet index est ensuite automatiquement transformé en date.\n",
    "\n",
    "Pour l'exemple, on fixe le profile de puissance active au noeud 1, phase acomme étant le profile 2 du fichier csv `inputs_P_Q_HTA.csv`.\n",
    " "
   ]
  },
  {
   "cell_type": "code",
   "execution_count": 29,
   "id": "bb96f69878ea4400",
   "metadata": {
    "ExecuteTime": {
     "end_time": "2024-02-26T20:22:33.743534817Z",
     "start_time": "2024-02-26T20:22:33.695125434Z"
    },
    "collapsed": false
   },
   "outputs": [
    {
     "data": {
      "text/html": [
       "<div>\n",
       "<style scoped>\n",
       "    .dataframe tbody tr th:only-of-type {\n",
       "        vertical-align: middle;\n",
       "    }\n",
       "\n",
       "    .dataframe tbody tr th {\n",
       "        vertical-align: top;\n",
       "    }\n",
       "\n",
       "    .dataframe thead th {\n",
       "        text-align: right;\n",
       "    }\n",
       "</style>\n",
       "<table border=\"1\" class=\"dataframe\">\n",
       "  <thead>\n",
       "    <tr style=\"text-align: right;\">\n",
       "      <th></th>\n",
       "      <th>profil_1</th>\n",
       "      <th>profil_2</th>\n",
       "      <th>profil_3</th>\n",
       "      <th>time (s)</th>\n",
       "    </tr>\n",
       "  </thead>\n",
       "  <tbody>\n",
       "    <tr>\n",
       "      <th>2024-01-01 00:00:00+01:00</th>\n",
       "      <td>10.0</td>\n",
       "      <td>5.0</td>\n",
       "      <td>-5.0</td>\n",
       "      <td>0.0</td>\n",
       "    </tr>\n",
       "    <tr>\n",
       "      <th>2024-01-01 00:15:00+01:00</th>\n",
       "      <td>10.0</td>\n",
       "      <td>5.0</td>\n",
       "      <td>-5.0</td>\n",
       "      <td>900.0</td>\n",
       "    </tr>\n",
       "    <tr>\n",
       "      <th>2024-01-01 00:30:00+01:00</th>\n",
       "      <td>10.0</td>\n",
       "      <td>10.0</td>\n",
       "      <td>-5.0</td>\n",
       "      <td>1800.0</td>\n",
       "    </tr>\n",
       "    <tr>\n",
       "      <th>2024-01-01 00:45:00+01:00</th>\n",
       "      <td>10.0</td>\n",
       "      <td>10.0</td>\n",
       "      <td>-5.0</td>\n",
       "      <td>2700.0</td>\n",
       "    </tr>\n",
       "    <tr>\n",
       "      <th>2024-01-01 01:00:00+01:00</th>\n",
       "      <td>10.0</td>\n",
       "      <td>10.0</td>\n",
       "      <td>-5.0</td>\n",
       "      <td>3600.0</td>\n",
       "    </tr>\n",
       "  </tbody>\n",
       "</table>\n",
       "</div>"
      ],
      "text/plain": [
       "                           profil_1  profil_2  profil_3  time (s)\n",
       "2024-01-01 00:00:00+01:00      10.0       5.0      -5.0       0.0\n",
       "2024-01-01 00:15:00+01:00      10.0       5.0      -5.0     900.0\n",
       "2024-01-01 00:30:00+01:00      10.0      10.0      -5.0    1800.0\n",
       "2024-01-01 00:45:00+01:00      10.0      10.0      -5.0    2700.0\n",
       "2024-01-01 01:00:00+01:00      10.0      10.0      -5.0    3600.0"
      ]
     },
     "execution_count": 29,
     "metadata": {},
     "output_type": "execute_result"
    }
   ],
   "source": [
    "from lms2.tools.data_processing import read_data, load_data\n",
    "import os\n",
    "\n",
    "data_P = read_data(horizon, os.path.join(os.getcwd(), 'data', 'inputs_P_Q_HTA.csv'),\n",
    "                        usecols=[0, 1, 2, 3],\n",
    "                        unit='s',\n",
    "                        start_date='2024-01-01 00:00:00')\n",
    "\n",
    "data_P.head(5)"
   ]
  },
  {
   "cell_type": "code",
   "execution_count": 30,
   "id": "128a37fc90b2bad3",
   "metadata": {
    "ExecuteTime": {
     "end_time": "2024-02-26T20:22:33.744673335Z",
     "start_time": "2024-02-26T20:22:33.731030647Z"
    },
    "collapsed": false
   },
   "outputs": [],
   "source": [
    "load_data(horizon, m.dist.p_out[1, 0, :], data_P['profil_2'], time_index_position=2)"
   ]
  },
  {
   "cell_type": "markdown",
   "id": "950cae6283b59c66",
   "metadata": {
    "collapsed": false
   },
   "source": [
    "Vérifions que l'initialisation de p_out a bien fonctionné en affichant le résultat du prettyprint. On vérifie que les valeurs sont bien celles définies dans le fichier csv. À note que si les index de l'horizon temporel et du fichier csv ne sont pas identiques, la fonction `load_data` fait une interpolation lineaire. \n",
    "On vérifie aussi que seules les variables des index (3,2,:), soit le nœud 3, phase 'c', ne sont pas fixés."
   ]
  },
  {
   "cell_type": "code",
   "execution_count": 31,
   "id": "6091bb565fba0634",
   "metadata": {
    "ExecuteTime": {
     "end_time": "2024-02-26T20:22:33.793251659Z",
     "start_time": "2024-02-26T20:22:33.731325178Z"
    },
    "collapsed": false
   },
   "outputs": [
    {
     "name": "stdout",
     "output_type": "stream",
     "text": [
      "p_out : active power injection in kW\n",
      "    Size=75, Index=dist.p_out_index, Units=kW\n",
      "    Key            : Lower   : Value : Upper  : Fixed : Stale : Domain\n",
      "       (0, 0, 0.0) : -1000.0 :     0 : 1000.0 :  True : False :  Reals\n",
      "     (0, 0, 900.0) : -1000.0 :     0 : 1000.0 :  True : False :  Reals\n",
      "    (0, 0, 1800.0) : -1000.0 :     0 : 1000.0 :  True : False :  Reals\n",
      "    (0, 0, 2700.0) : -1000.0 :     0 : 1000.0 :  True : False :  Reals\n",
      "    (0, 0, 3600.0) : -1000.0 :     0 : 1000.0 :  True : False :  Reals\n",
      "       (0, 1, 0.0) : -1000.0 :     0 : 1000.0 :  True : False :  Reals\n",
      "     (0, 1, 900.0) : -1000.0 :     0 : 1000.0 :  True : False :  Reals\n",
      "    (0, 1, 1800.0) : -1000.0 :     0 : 1000.0 :  True : False :  Reals\n",
      "    (0, 1, 2700.0) : -1000.0 :     0 : 1000.0 :  True : False :  Reals\n",
      "    (0, 1, 3600.0) : -1000.0 :     0 : 1000.0 :  True : False :  Reals\n",
      "       (0, 2, 0.0) : -1000.0 :    20 : 1000.0 :  True : False :  Reals\n",
      "     (0, 2, 900.0) : -1000.0 :    20 : 1000.0 :  True : False :  Reals\n",
      "    (0, 2, 1800.0) : -1000.0 :    20 : 1000.0 :  True : False :  Reals\n",
      "    (0, 2, 2700.0) : -1000.0 :    20 : 1000.0 :  True : False :  Reals\n",
      "    (0, 2, 3600.0) : -1000.0 :    20 : 1000.0 :  True : False :  Reals\n",
      "       (1, 0, 0.0) : -1000.0 :   5.0 : 1000.0 :  True : False :  Reals\n",
      "     (1, 0, 900.0) : -1000.0 :   5.0 : 1000.0 :  True : False :  Reals\n",
      "    (1, 0, 1800.0) : -1000.0 :  10.0 : 1000.0 :  True : False :  Reals\n",
      "    (1, 0, 2700.0) : -1000.0 :  10.0 : 1000.0 :  True : False :  Reals\n",
      "    (1, 0, 3600.0) : -1000.0 :  10.0 : 1000.0 :  True : False :  Reals\n",
      "       (1, 1, 0.0) : -1000.0 :    20 : 1000.0 :  True : False :  Reals\n",
      "     (1, 1, 900.0) : -1000.0 :    20 : 1000.0 :  True : False :  Reals\n",
      "    (1, 1, 1800.0) : -1000.0 :    20 : 1000.0 :  True : False :  Reals\n",
      "    (1, 1, 2700.0) : -1000.0 :    20 : 1000.0 :  True : False :  Reals\n",
      "    (1, 1, 3600.0) : -1000.0 :    20 : 1000.0 :  True : False :  Reals\n",
      "       (1, 2, 0.0) : -1000.0 :     0 : 1000.0 :  True : False :  Reals\n",
      "     (1, 2, 900.0) : -1000.0 :     0 : 1000.0 :  True : False :  Reals\n",
      "    (1, 2, 1800.0) : -1000.0 :     0 : 1000.0 :  True : False :  Reals\n",
      "    (1, 2, 2700.0) : -1000.0 :     0 : 1000.0 :  True : False :  Reals\n",
      "    (1, 2, 3600.0) : -1000.0 :     0 : 1000.0 :  True : False :  Reals\n",
      "       (2, 0, 0.0) : -1000.0 :    20 : 1000.0 :  True : False :  Reals\n",
      "     (2, 0, 900.0) : -1000.0 :    20 : 1000.0 :  True : False :  Reals\n",
      "    (2, 0, 1800.0) : -1000.0 :    20 : 1000.0 :  True : False :  Reals\n",
      "    (2, 0, 2700.0) : -1000.0 :    20 : 1000.0 :  True : False :  Reals\n",
      "    (2, 0, 3600.0) : -1000.0 :    20 : 1000.0 :  True : False :  Reals\n",
      "       (2, 1, 0.0) : -1000.0 :     0 : 1000.0 :  True : False :  Reals\n",
      "     (2, 1, 900.0) : -1000.0 :     0 : 1000.0 :  True : False :  Reals\n",
      "    (2, 1, 1800.0) : -1000.0 :     0 : 1000.0 :  True : False :  Reals\n",
      "    (2, 1, 2700.0) : -1000.0 :     0 : 1000.0 :  True : False :  Reals\n",
      "    (2, 1, 3600.0) : -1000.0 :     0 : 1000.0 :  True : False :  Reals\n",
      "       (2, 2, 0.0) : -1000.0 :     0 : 1000.0 :  True : False :  Reals\n",
      "     (2, 2, 900.0) : -1000.0 :     0 : 1000.0 :  True : False :  Reals\n",
      "    (2, 2, 1800.0) : -1000.0 :     0 : 1000.0 :  True : False :  Reals\n",
      "    (2, 2, 2700.0) : -1000.0 :     0 : 1000.0 :  True : False :  Reals\n",
      "    (2, 2, 3600.0) : -1000.0 :     0 : 1000.0 :  True : False :  Reals\n",
      "       (3, 0, 0.0) : -1000.0 :     0 : 1000.0 :  True : False :  Reals\n",
      "     (3, 0, 900.0) : -1000.0 :     0 : 1000.0 :  True : False :  Reals\n",
      "    (3, 0, 1800.0) : -1000.0 :     0 : 1000.0 :  True : False :  Reals\n",
      "    (3, 0, 2700.0) : -1000.0 :     0 : 1000.0 :  True : False :  Reals\n",
      "    (3, 0, 3600.0) : -1000.0 :     0 : 1000.0 :  True : False :  Reals\n",
      "       (3, 1, 0.0) : -1000.0 :     0 : 1000.0 :  True : False :  Reals\n",
      "     (3, 1, 900.0) : -1000.0 :     0 : 1000.0 :  True : False :  Reals\n",
      "    (3, 1, 1800.0) : -1000.0 :     0 : 1000.0 :  True : False :  Reals\n",
      "    (3, 1, 2700.0) : -1000.0 :     0 : 1000.0 :  True : False :  Reals\n",
      "    (3, 1, 3600.0) : -1000.0 :     0 : 1000.0 :  True : False :  Reals\n",
      "       (3, 2, 0.0) : -1000.0 :     0 : 1000.0 : False : False :  Reals\n",
      "     (3, 2, 900.0) : -1000.0 :     0 : 1000.0 : False : False :  Reals\n",
      "    (3, 2, 1800.0) : -1000.0 :     0 : 1000.0 : False : False :  Reals\n",
      "    (3, 2, 2700.0) : -1000.0 :     0 : 1000.0 : False : False :  Reals\n",
      "    (3, 2, 3600.0) : -1000.0 :     0 : 1000.0 : False : False :  Reals\n",
      "       (4, 0, 0.0) : -1000.0 :     0 : 1000.0 :  True : False :  Reals\n",
      "     (4, 0, 900.0) : -1000.0 :     0 : 1000.0 :  True : False :  Reals\n",
      "    (4, 0, 1800.0) : -1000.0 :     0 : 1000.0 :  True : False :  Reals\n",
      "    (4, 0, 2700.0) : -1000.0 :     0 : 1000.0 :  True : False :  Reals\n",
      "    (4, 0, 3600.0) : -1000.0 :     0 : 1000.0 :  True : False :  Reals\n",
      "       (4, 1, 0.0) : -1000.0 :    20 : 1000.0 :  True : False :  Reals\n",
      "     (4, 1, 900.0) : -1000.0 :    20 : 1000.0 :  True : False :  Reals\n",
      "    (4, 1, 1800.0) : -1000.0 :    20 : 1000.0 :  True : False :  Reals\n",
      "    (4, 1, 2700.0) : -1000.0 :    20 : 1000.0 :  True : False :  Reals\n",
      "    (4, 1, 3600.0) : -1000.0 :    20 : 1000.0 :  True : False :  Reals\n",
      "       (4, 2, 0.0) : -1000.0 :     0 : 1000.0 :  True : False :  Reals\n",
      "     (4, 2, 900.0) : -1000.0 :     0 : 1000.0 :  True : False :  Reals\n",
      "    (4, 2, 1800.0) : -1000.0 :     0 : 1000.0 :  True : False :  Reals\n",
      "    (4, 2, 2700.0) : -1000.0 :     0 : 1000.0 :  True : False :  Reals\n",
      "    (4, 2, 3600.0) : -1000.0 :     0 : 1000.0 :  True : False :  Reals\n"
     ]
    }
   ],
   "source": [
    "m.dist.p_out.pprint()"
   ]
  },
  {
   "cell_type": "markdown",
   "id": "d54f120df68b0c22",
   "metadata": {
    "collapsed": false
   },
   "source": [
    "### 3. Résolution du problème d'optimisation \n",
    "Pour l'exemple, on fixe l'objectif à une constante et on résout le loadflow. "
   ]
  },
  {
   "cell_type": "code",
   "execution_count": 32,
   "id": "588dc79fd5aa9148",
   "metadata": {
    "ExecuteTime": {
     "end_time": "2024-02-26T20:22:33.829355549Z",
     "start_time": "2024-02-26T20:22:33.772850713Z"
    },
    "collapsed": false
   },
   "outputs": [
    {
     "name": "stdout",
     "output_type": "stream",
     "text": [
      "WARNING: Constant objective detected, replacing with a placeholder to prevent\n",
      "    solver failure.\n"
     ]
    }
   ],
   "source": [
    "m.obj = Objective(expr=0)\n",
    "#sol = SolverFactory('gurobi', solver_io=\"direct\")\n",
    "sol = SolverFactory('glpk')\n",
    "res = sol.solve(m)\n",
    "\n",
    "import matplotlib.pyplot as plt\n",
    "import pandas as pd"
   ]
  },
  {
   "cell_type": "markdown",
   "id": "986b5e2c2e339473",
   "metadata": {
    "collapsed": false
   },
   "source": [
    "### 4. Post Processing"
   ]
  },
  {
   "cell_type": "code",
   "execution_count": 33,
   "id": "45bd99d5e4b954f7",
   "metadata": {
    "ExecuteTime": {
     "end_time": "2024-02-26T20:22:33.874684258Z",
     "start_time": "2024-02-26T20:22:33.792223422Z"
    },
    "collapsed": false
   },
   "outputs": [],
   "source": [
    "y = m.dist.y.get_values()\n",
    "v = [[[np.sqrt(y[(i, j, k)]) for k in horizon.index] for j in [0, 1, 2]] for i in m.dist.graph.nodes]"
   ]
  },
  {
   "cell_type": "code",
   "execution_count": 34,
   "id": "ef5c6d74e0af6c10",
   "metadata": {
    "ExecuteTime": {
     "end_time": "2024-02-26T20:22:34.342011786Z",
     "start_time": "2024-02-26T20:22:33.836711278Z"
    },
    "collapsed": false
   },
   "outputs": [
    {
     "data": {
      "text/plain": [
       "<matplotlib.legend.Legend at 0x7fa15f2fe6a0>"
      ]
     },
     "execution_count": 34,
     "metadata": {},
     "output_type": "execute_result"
    },
    {
     "data": {
      "image/png": "[encoded data removed]",
      "text/plain": [
       "<Figure size 640x480 with 1 Axes>"
      ]
     },
     "metadata": {},
     "output_type": "display_data"
    }
   ],
   "source": [
    "plt.figure()\n",
    "for i in m.dist.graph.nodes():\n",
    "    for j in [0, 1, 2]:\n",
    "        plt.plot(v[i][j], marker='x', label=f'noeud_{i}_phase_{j}')\n",
    "        \n",
    "plt.legend()"
   ]
  },
  {
   "cell_type": "code",
   "execution_count": 35,
   "id": "a4d59cd29d7f8e0a",
   "metadata": {
    "ExecuteTime": {
     "end_time": "2024-02-26T20:22:34.356528873Z",
     "start_time": "2024-02-26T20:22:34.351108817Z"
    },
    "collapsed": false
   },
   "outputs": [],
   "source": [
    "graph = m.dist.graph.copy()\n",
    "graph.edges(data=True)\n",
    "\n",
    "for n1 in graph.nodes():\n",
    "    graph.nodes[n1]['p_out'] = [[m.dist.p_out[n1, phase, t]() for t in horizon.index] for phase in m.dist.phases]\n",
    "    graph.nodes[n1]['q_out'] = [[m.dist.q_out[n1, phase, t]() for t in horizon.index] for phase in m.dist.phases]\n",
    "    graph.nodes[n1]['v'] = [[np.sqrt(m.dist.y[n1, phase, t]()) for t in horizon.index] for phase in m.dist.phases]\n",
    "    \n",
    "for n1, n2 in graph.edges():\n",
    "    graph.edges[n1, n2]['p'] = [[m.dist.p[(n1, n2), phase, t]() for t in horizon.index] for phase in m.dist.phases]\n",
    "    graph.edges[n1, n2]['q'] = [[m.dist.q[(n1, n2), phase, t]() for t in horizon.index] for phase in m.dist.phases]\n",
    "    \n",
    "from lms2.electric.graph_utils import save_json_graph, read_json_graph\n",
    "save_json_graph(graph, os.path.realpath('data/network_graph_results.json'))"
   ]
  },
  {
   "cell_type": "markdown",
   "id": "e4fb999507dee1af",
   "metadata": {
    "collapsed": false
   },
   "source": [
    "### 3. Example of saving/laoding graph\n",
    "\n"
   ]
  },
  {
   "cell_type": "markdown",
   "id": "b1a6002b8aca55fe",
   "metadata": {
    "collapsed": false
   },
   "source": [
    "from lms2.electric.graph_utils import save_json_graph, read_json_graph\n",
    "import os\n",
    "\n",
    "save_json_graph(g, os.path.realpath('data/test.json'))\n",
    "g2 = read_json_graph(os.path.realpath('data/test.json'))\n"
   ]
  },
  {
   "cell_type": "markdown",
   "id": "22843a5b105da2b1",
   "metadata": {
    "collapsed": false
   },
   "source": [
    "### 4. Example of changing edge parameter\n"
   ]
  },
  {
   "cell_type": "markdown",
   "id": "d93f0a3957b09eaa",
   "metadata": {
    "collapsed": false
   },
   "source": [
    "branche = (1, 2)\n",
    "\n",
    "new_cable = Cable(name  = 'new',\n",
    "                       doc   = 'Cable triphasé de section 150 mm²',\n",
    "                       type  = 'triphasé 3 fils',\n",
    "                       r     = np.array([[0.3, 0.2, 0.2], [0.2, 0.3, 0.2], [0.2, 0.2, 0.3]]),\n",
    "                       x     = np.array([[0.15, 0.12, 0.08], [0.12, 0.20, 0.12], [0.08, 0.12, 0.15]]),\n",
    "                       v_nom = 230,\n",
    "                       s_nom = 200/3)\n",
    "\n",
    "g.edges[branche].update({'cable': new_cable})"
   ]
  }
 ],
 "metadata": {
  "kernelspec": {
   "display_name": "Python 3",
   "language": "python",
   "name": "python3"
  },
  "language_info": {
   "codemirror_mode": {
    "name": "ipython",
    "version": 2
   },
   "file_extension": ".py",
   "mimetype": "text/x-python",
   "name": "python",
   "nbconvert_exporter": "python",
   "pygments_lexer": "ipython2",
   "version": "2.7.6"
  }
 },
 "nbformat": 4,
 "nbformat_minor": 5
}
